{
 "cells": [
  {
   "cell_type": "code",
   "execution_count": 27,
   "metadata": {},
   "outputs": [
    {
     "name": "stdout",
     "output_type": "stream",
     "text": [
      "Collecting undetected-chromedriver\n",
      "  Downloading undetected-chromedriver-3.5.5.tar.gz (65 kB)\n",
      "  Preparing metadata (setup.py): started\n",
      "  Preparing metadata (setup.py): finished with status 'done'\n",
      "Requirement already satisfied: selenium>=4.9.0 in c:\\users\\suyog\\appdata\\local\\packages\\pythonsoftwarefoundation.python.3.10_qbz5n2kfra8p0\\localcache\\local-packages\\python310\\site-packages (from undetected-chromedriver) (4.25.0)\n",
      "Requirement already satisfied: requests in c:\\users\\suyog\\appdata\\local\\packages\\pythonsoftwarefoundation.python.3.10_qbz5n2kfra8p0\\localcache\\local-packages\\python310\\site-packages (from undetected-chromedriver) (2.32.3)\n",
      "Requirement already satisfied: websockets in c:\\users\\suyog\\appdata\\local\\packages\\pythonsoftwarefoundation.python.3.10_qbz5n2kfra8p0\\localcache\\local-packages\\python310\\site-packages (from undetected-chromedriver) (15.0)\n",
      "Requirement already satisfied: urllib3<3,>=1.26 in c:\\users\\suyog\\appdata\\local\\packages\\pythonsoftwarefoundation.python.3.10_qbz5n2kfra8p0\\localcache\\local-packages\\python310\\site-packages (from urllib3[socks]<3,>=1.26->selenium>=4.9.0->undetected-chromedriver) (2.2.2)\n",
      "Requirement already satisfied: trio~=0.17 in c:\\users\\suyog\\appdata\\local\\packages\\pythonsoftwarefoundation.python.3.10_qbz5n2kfra8p0\\localcache\\local-packages\\python310\\site-packages (from selenium>=4.9.0->undetected-chromedriver) (0.27.0)\n",
      "Requirement already satisfied: trio-websocket~=0.9 in c:\\users\\suyog\\appdata\\local\\packages\\pythonsoftwarefoundation.python.3.10_qbz5n2kfra8p0\\localcache\\local-packages\\python310\\site-packages (from selenium>=4.9.0->undetected-chromedriver) (0.11.1)\n",
      "Requirement already satisfied: certifi>=2021.10.8 in c:\\users\\suyog\\appdata\\local\\packages\\pythonsoftwarefoundation.python.3.10_qbz5n2kfra8p0\\localcache\\local-packages\\python310\\site-packages (from selenium>=4.9.0->undetected-chromedriver) (2024.6.2)\n",
      "Requirement already satisfied: typing_extensions~=4.9 in c:\\users\\suyog\\appdata\\local\\packages\\pythonsoftwarefoundation.python.3.10_qbz5n2kfra8p0\\localcache\\local-packages\\python310\\site-packages (from selenium>=4.9.0->undetected-chromedriver) (4.12.2)\n",
      "Requirement already satisfied: websocket-client~=1.8 in c:\\users\\suyog\\appdata\\local\\packages\\pythonsoftwarefoundation.python.3.10_qbz5n2kfra8p0\\localcache\\local-packages\\python310\\site-packages (from selenium>=4.9.0->undetected-chromedriver) (1.8.0)\n",
      "Requirement already satisfied: charset-normalizer<4,>=2 in c:\\users\\suyog\\appdata\\local\\packages\\pythonsoftwarefoundation.python.3.10_qbz5n2kfra8p0\\localcache\\local-packages\\python310\\site-packages (from requests->undetected-chromedriver) (3.3.2)\n",
      "Requirement already satisfied: idna<4,>=2.5 in c:\\users\\suyog\\appdata\\local\\packages\\pythonsoftwarefoundation.python.3.10_qbz5n2kfra8p0\\localcache\\local-packages\\python310\\site-packages (from requests->undetected-chromedriver) (3.7)\n",
      "Requirement already satisfied: attrs>=23.2.0 in c:\\users\\suyog\\appdata\\local\\packages\\pythonsoftwarefoundation.python.3.10_qbz5n2kfra8p0\\localcache\\local-packages\\python310\\site-packages (from trio~=0.17->selenium>=4.9.0->undetected-chromedriver) (24.2.0)\n",
      "Requirement already satisfied: sortedcontainers in c:\\users\\suyog\\appdata\\local\\packages\\pythonsoftwarefoundation.python.3.10_qbz5n2kfra8p0\\localcache\\local-packages\\python310\\site-packages (from trio~=0.17->selenium>=4.9.0->undetected-chromedriver) (2.4.0)\n",
      "Requirement already satisfied: outcome in c:\\users\\suyog\\appdata\\local\\packages\\pythonsoftwarefoundation.python.3.10_qbz5n2kfra8p0\\localcache\\local-packages\\python310\\site-packages (from trio~=0.17->selenium>=4.9.0->undetected-chromedriver) (1.3.0.post0)\n",
      "Requirement already satisfied: sniffio>=1.3.0 in c:\\users\\suyog\\appdata\\local\\packages\\pythonsoftwarefoundation.python.3.10_qbz5n2kfra8p0\\localcache\\local-packages\\python310\\site-packages (from trio~=0.17->selenium>=4.9.0->undetected-chromedriver) (1.3.1)\n",
      "Requirement already satisfied: cffi>=1.14 in c:\\users\\suyog\\appdata\\local\\packages\\pythonsoftwarefoundation.python.3.10_qbz5n2kfra8p0\\localcache\\local-packages\\python310\\site-packages (from trio~=0.17->selenium>=4.9.0->undetected-chromedriver) (1.17.1)\n",
      "Requirement already satisfied: exceptiongroup in c:\\users\\suyog\\appdata\\local\\packages\\pythonsoftwarefoundation.python.3.10_qbz5n2kfra8p0\\localcache\\local-packages\\python310\\site-packages (from trio~=0.17->selenium>=4.9.0->undetected-chromedriver) (1.2.1)\n",
      "Requirement already satisfied: wsproto>=0.14 in c:\\users\\suyog\\appdata\\local\\packages\\pythonsoftwarefoundation.python.3.10_qbz5n2kfra8p0\\localcache\\local-packages\\python310\\site-packages (from trio-websocket~=0.9->selenium>=4.9.0->undetected-chromedriver) (1.2.0)\n",
      "Requirement already satisfied: pysocks!=1.5.7,<2.0,>=1.5.6 in c:\\users\\suyog\\appdata\\local\\packages\\pythonsoftwarefoundation.python.3.10_qbz5n2kfra8p0\\localcache\\local-packages\\python310\\site-packages (from urllib3[socks]<3,>=1.26->selenium>=4.9.0->undetected-chromedriver) (1.7.1)\n",
      "Requirement already satisfied: pycparser in c:\\users\\suyog\\appdata\\local\\packages\\pythonsoftwarefoundation.python.3.10_qbz5n2kfra8p0\\localcache\\local-packages\\python310\\site-packages (from cffi>=1.14->trio~=0.17->selenium>=4.9.0->undetected-chromedriver) (2.22)\n",
      "Requirement already satisfied: h11<1,>=0.9.0 in c:\\users\\suyog\\appdata\\local\\packages\\pythonsoftwarefoundation.python.3.10_qbz5n2kfra8p0\\localcache\\local-packages\\python310\\site-packages (from wsproto>=0.14->trio-websocket~=0.9->selenium>=4.9.0->undetected-chromedriver) (0.14.0)\n",
      "Building wheels for collected packages: undetected-chromedriver\n",
      "  Building wheel for undetected-chromedriver (setup.py): started\n",
      "  Building wheel for undetected-chromedriver (setup.py): finished with status 'done'\n",
      "  Created wheel for undetected-chromedriver: filename=undetected_chromedriver-3.5.5-py3-none-any.whl size=47131 sha256=45548d3462d2262ade56cc2d8f7871b565565e4e8bf217ba1cf181ef211cab52\n",
      "  Stored in directory: c:\\users\\suyog\\appdata\\local\\pip\\cache\\wheels\\cf\\a1\\db\\e1275b6f7259aacd6b045f8bfcb1fcbc93827a3916ba55d5b7\n",
      "Successfully built undetected-chromedriver\n",
      "Installing collected packages: undetected-chromedriver\n",
      "Successfully installed undetected-chromedriver-3.5.5\n"
     ]
    },
    {
     "name": "stderr",
     "output_type": "stream",
     "text": [
      "\n",
      "[notice] A new release of pip is available: 24.3.1 -> 25.0.1\n",
      "[notice] To update, run: C:\\Users\\suyog\\AppData\\Local\\Microsoft\\WindowsApps\\PythonSoftwareFoundation.Python.3.10_qbz5n2kfra8p0\\python.exe -m pip install --upgrade pip\n"
     ]
    }
   ],
   "source": [
    "!pip install undetected-chromedriver"
   ]
  },
  {
   "cell_type": "code",
   "execution_count": 28,
   "metadata": {},
   "outputs": [],
   "source": [
    "from selenium import webdriver\n",
    "from selenium.webdriver.common.by import By\n",
    "from selenium.webdriver.chrome.service import Service\n",
    "from selenium.webdriver.support.ui import WebDriverWait\n",
    "from selenium.webdriver.support import expected_conditions as EC\n",
    "from selenium_stealth import stealth"
   ]
  },
  {
   "cell_type": "code",
   "execution_count": 29,
   "metadata": {},
   "outputs": [],
   "source": [
    "import chromedriver_autoinstaller\n",
    "DOWNLOAD_DIR = r\"C:\\Users\\suyog\\Desktop\\monsoon_24\\capstone-legal-docs-analysis\\Docs\\food-safety-new-24022025\"\n"
   ]
  },
  {
   "cell_type": "code",
   "execution_count": 30,
   "metadata": {},
   "outputs": [
    {
     "data": {
      "text/plain": [
       "'C:\\\\Users\\\\suyog\\\\AppData\\\\Local\\\\Packages\\\\PythonSoftwareFoundation.Python.3.10_qbz5n2kfra8p0\\\\LocalCache\\\\local-packages\\\\Python310\\\\site-packages\\\\chromedriver_autoinstaller\\\\133\\\\chromedriver.exe'"
      ]
     },
     "execution_count": 30,
     "metadata": {},
     "output_type": "execute_result"
    }
   ],
   "source": [
    "chrome_driver = r\"C:\\Users\\suyog\\Downloads\\chromedriver-win64\\chromedriver-win64\\chromedriver.exe\"\n",
    "chromedriver_autoinstaller.install()"
   ]
  },
  {
   "cell_type": "code",
   "execution_count": 31,
   "metadata": {},
   "outputs": [],
   "source": [
    "preferences = {\"download.default_directory\": DOWNLOAD_DIR,\n",
    "                \"download.prompt_for_download\": False,\n",
    "                \"directory_upgrade\": True,\n",
    "                \"safebrowsing.enabled\": True\n",
    "                }\n",
    "chromeOptions = webdriver.ChromeOptions()\n",
    "chromeOptions.add_experimental_option(\"prefs\", preferences)\n",
    "driver = webdriver.Chrome(options=chromeOptions)"
   ]
  },
  {
   "cell_type": "code",
   "execution_count": 32,
   "metadata": {},
   "outputs": [],
   "source": [
    "stealth(driver, languages=[\"en-US\", \"en\"], vendor=\"Google Inc.\", platform=\"Win32\", webgl_vendor=\"Intel Inc.\",\n",
    "        renderer=\"Intel Iris OpenGL Engine\",\n",
    "        fix_hairline=True,)"
   ]
  },
  {
   "cell_type": "code",
   "execution_count": 33,
   "metadata": {},
   "outputs": [],
   "source": [
    "url = \"https://indiankanoon.org\"\n",
    "\n",
    "driver.get(url)"
   ]
  },
  {
   "cell_type": "code",
   "execution_count": 23,
   "metadata": {},
   "outputs": [
    {
     "name": "stdout",
     "output_type": "stream",
     "text": [
      "<html lang=\"en-US\" dir=\"ltr\"><head><title>Just a moment...</title><meta http-equiv=\"Content-Type\" content=\"text/html; charset=UTF-8\"><meta http-equiv=\"X-UA-Compatible\" content=\"IE=Edge\"><meta name=\"robots\" content=\"noindex,nofollow\"><meta name=\"viewport\" content=\"width=device-width,initial-scale=1\"><style>*{box-sizing:border-box;margin:0;padding:0}html{line-height:1.15;-webkit-text-size-adjust:100%;color:#313131;font-family:system-ui,-apple-system,BlinkMacSystemFont,Segoe UI,Roboto,Helvetica Neue,Arial,Noto Sans,sans-serif,Apple Color Emoji,Segoe UI Emoji,Segoe UI Symbol,Noto Color Emoji}body{display:flex;flex-direction:column;height:100vh;min-height:100vh}.main-content{margin:8rem auto;max-width:60rem;padding-left:1.5rem}@media (width <= 720px){.main-content{margin-top:4rem}}.h2{font-size:1.5rem;font-weight:500;line-height:2.25rem}@media (width <= 720px){.h2{font-size:1.25rem;line-height:1.5rem}}#challenge-error-text{background-image:url(data:image/svg+xml;base64,PHN2ZyB4bWxucz0iaHR0cDovL3d3dy53My5vcmcvMjAwMC9zdmciIHdpZHRoPSIzMiIgaGVpZ2h0PSIzMiIgZmlsbD0ibm9uZSI+PHBhdGggZmlsbD0iI0IyMEYwMyIgZD0iTTE2IDNhMTMgMTMgMCAxIDAgMTMgMTNBMTMuMDE1IDEzLjAxNSAwIDAgMCAxNiAzbTAgMjRhMTEgMTEgMCAxIDEgMTEtMTEgMTEuMDEgMTEuMDEgMCAwIDEtMTEgMTEiLz48cGF0aCBmaWxsPSIjQjIwRjAzIiBkPSJNMTcuMDM4IDE4LjYxNUgxNC44N0wxNC41NjMgOS41aDIuNzgzem0tMS4wODQgMS40MjdxLjY2IDAgMS4wNTcuMzg4LjQwNy4zODkuNDA3Ljk5NCAwIC41OTYtLjQwNy45ODQtLjM5Ny4zOS0xLjA1Ny4zODktLjY1IDAtMS4wNTYtLjM4OS0uMzk4LS4zODktLjM5OC0uOTg0IDAtLjU5Ny4zOTgtLjk4NS40MDYtLjM5NyAxLjA1Ni0uMzk3Ii8+PC9zdmc+);background-repeat:no-repeat;background-size:contain;padding-left:34px}@media (prefers-color-scheme:dark){body{background-color:#222;color:#d9d9d9}}</style><meta http-equiv=\"refresh\" content=\"390\"><script src=\"/cdn-cgi/challenge-platform/h/b/orchestrate/chl_page/v1?ray=916f242aef2c7fd0\"></script><style>*{box-sizing:border-box;margin:0;padding:0}html{line-height:1.15;-webkit-text-size-adjust:100%;color:#313131}button,html{font-family:system-ui,-apple-system,BlinkMacSystemFont,Segoe UI,Roboto,Helvetica Neue,Arial,Noto Sans,sans-serif,Apple Color Emoji,Segoe UI Emoji,Segoe UI Symbol,Noto Color Emoji}body{display:flex;flex-direction:column;height:100vh;min-height:100vh}body.no-js .loading-spinner{visibility:hidden}body.theme-dark{background-color:#222;color:#d9d9d9}body.theme-dark a{color:#fff}body.theme-dark a:hover{color:#ee730a;text-decoration:underline}body.theme-dark .lds-ring div{border-color:#999 transparent transparent}body.theme-dark .font-red{color:#b20f03}body.theme-dark .ctp-button{background-color:#4693ff;color:#1d1d1d}body.theme-dark #challenge-success-text{background-image:url(\"data:image/svg+xml;base64,PHN2ZyB4bWxucz0iaHR0cDovL3d3dy53My5vcmcvMjAwMC9zdmciIHdpZHRoPSIzMiIgaGVpZ2h0PSIzMiIgZmlsbD0ibm9uZSIgdmlld0JveD0iMCAwIDI2IDI2Ij48cGF0aCBmaWxsPSIjZDlkOWQ5IiBkPSJNMTMgMGExMyAxMyAwIDEgMCAwIDI2IDEzIDEzIDAgMCAwIDAtMjZtMCAyNGExMSAxMSAwIDEgMSAwLTIyIDExIDExIDAgMCAxIDAgMjIiLz48cGF0aCBmaWxsPSIjZDlkOWQ5IiBkPSJtMTAuOTU1IDE2LjA1NS0zLjk1LTQuMTI1LTEuNDQ1IDEuMzg1IDUuMzcgNS42MSA5LjQ5NS05LjYtMS40Mi0xLjQwNXoiLz48L3N2Zz4=\")}body.theme-dark #challenge-error-text{background-image:url(\"data:image/svg+xml;base64,PHN2ZyB4bWxucz0iaHR0cDovL3d3dy53My5vcmcvMjAwMC9zdmciIHdpZHRoPSIzMiIgaGVpZ2h0PSIzMiIgZmlsbD0ibm9uZSI+PHBhdGggZmlsbD0iI0IyMEYwMyIgZD0iTTE2IDNhMTMgMTMgMCAxIDAgMTMgMTNBMTMuMDE1IDEzLjAxNSAwIDAgMCAxNiAzbTAgMjRhMTEgMTEgMCAxIDEgMTEtMTEgMTEuMDEgMTEuMDEgMCAwIDEtMTEgMTEiLz48cGF0aCBmaWxsPSIjQjIwRjAzIiBkPSJNMTcuMDM4IDE4LjYxNUgxNC44N0wxNC41NjMgOS41aDIuNzgzem0tMS4wODQgMS40MjdxLjY2IDAgMS4wNTcuMzg4LjQwNy4zODkuNDA3Ljk5NCAwIC41OTYtLjQwNy45ODQtLjM5Ny4zOS0xLjA1Ny4zODktLjY1IDAtMS4wNTYtLjM4OS0uMzk4LS4zODktLjM5OC0uOTg0IDAtLjU5Ny4zOTgtLjk4NS40MDYtLjM5NyAxLjA1Ni0uMzk3Ii8+PC9zdmc+\")}body.theme-light{background-color:#fff;color:#313131}body.theme-light a{color:#0051c3}body.theme-light a:hover{color:#ee730a;text-decoration:underline}body.theme-light .lds-ring div{border-color:#595959 transparent transparent}body.theme-light .font-red{color:#fc574a}body.theme-light .ctp-button{background-color:#003681;border-color:#003681;color:#fff}body.theme-light #challenge-success-text{background-image:url(\"data:image/svg+xml;base64,PHN2ZyB4bWxucz0iaHR0cDovL3d3dy53My5vcmcvMjAwMC9zdmciIHdpZHRoPSIzMiIgaGVpZ2h0PSIzMiIgZmlsbD0ibm9uZSIgdmlld0JveD0iMCAwIDI2IDI2Ij48cGF0aCBmaWxsPSIjMzEzMTMxIiBkPSJNMTMgMGExMyAxMyAwIDEgMCAwIDI2IDEzIDEzIDAgMCAwIDAtMjZtMCAyNGExMSAxMSAwIDEgMSAwLTIyIDExIDExIDAgMCAxIDAgMjIiLz48cGF0aCBmaWxsPSIjMzEzMTMxIiBkPSJtMTAuOTU1IDE2LjA1NS0zLjk1LTQuMTI1LTEuNDQ1IDEuMzg1IDUuMzcgNS42MSA5LjQ5NS05LjYtMS40Mi0xLjQwNXoiLz48L3N2Zz4=\")}body.theme-light #challenge-error-text{background-image:url(\"data:image/svg+xml;base64,PHN2ZyB4bWxucz0iaHR0cDovL3d3dy53My5vcmcvMjAwMC9zdmciIHdpZHRoPSIzMiIgaGVpZ2h0PSIzMiIgZmlsbD0ibm9uZSI+PHBhdGggZmlsbD0iI2ZjNTc0YSIgZD0iTTE2IDNhMTMgMTMgMCAxIDAgMTMgMTNBMTMuMDE1IDEzLjAxNSAwIDAgMCAxNiAzbTAgMjRhMTEgMTEgMCAxIDEgMTEtMTEgMTEuMDEgMTEuMDEgMCAwIDEtMTEgMTEiLz48cGF0aCBmaWxsPSIjZmM1NzRhIiBkPSJNMTcuMDM4IDE4LjYxNUgxNC44N0wxNC41NjMgOS41aDIuNzgzem0tMS4wODQgMS40MjdxLjY2IDAgMS4wNTcuMzg4LjQwNy4zODkuNDA3Ljk5NCAwIC41OTYtLjQwNy45ODQtLjM5Ny4zOS0xLjA1Ny4zODktLjY1IDAtMS4wNTYtLjM4OS0uMzk4LS4zODktLjM5OC0uOTg0IDAtLjU5Ny4zOTgtLjk4NS40MDYtLjM5NyAxLjA1Ni0uMzk3Ii8+PC9zdmc+\")}a{background-color:transparent;color:#0051c3;text-decoration:none;transition:color .15s ease}a:hover{color:#ee730a;text-decoration:underline}.main-content{margin:8rem auto;max-width:60rem;padding-left:1.5rem;padding-right:1.5rem;width:100%}.main-content .loading-spinner{height:76.391px}.spacer{margin:2rem 0}.spacer-top{margin-top:4rem}.spacer-bottom{margin-bottom:2rem}.heading-favicon{height:2rem;margin-right:.5rem;width:2rem}@media (width <= 720px){.main-content{margin-top:4rem}.heading-favicon{height:1.5rem;width:1.5rem}}.main-wrapper{align-items:center;display:flex;flex:1;flex-direction:column}.font-red{color:#b20f03}.h1{font-size:2.5rem;font-weight:500;line-height:3.75rem}.h2{font-weight:500}.core-msg,.h2{font-size:1.5rem;line-height:2.25rem}.body-text,.core-msg{font-weight:400}.body-text{font-size:1rem;line-height:1.25rem}@media (width <= 720px){.h1{font-size:1.5rem;line-height:1.75rem}.h2{font-size:1.25rem}.core-msg,.h2{line-height:1.5rem}.core-msg{font-size:1rem}}#challenge-error-text{background-image:url(\"data:image/svg+xml;base64,PHN2ZyB4bWxucz0iaHR0cDovL3d3dy53My5vcmcvMjAwMC9zdmciIHdpZHRoPSIzMiIgaGVpZ2h0PSIzMiIgZmlsbD0ibm9uZSI+PHBhdGggZmlsbD0iI2ZjNTc0YSIgZD0iTTE2IDNhMTMgMTMgMCAxIDAgMTMgMTNBMTMuMDE1IDEzLjAxNSAwIDAgMCAxNiAzbTAgMjRhMTEgMTEgMCAxIDEgMTEtMTEgMTEuMDEgMTEuMDEgMCAwIDEtMTEgMTEiLz48cGF0aCBmaWxsPSIjZmM1NzRhIiBkPSJNMTcuMDM4IDE4LjYxNUgxNC44N0wxNC41NjMgOS41aDIuNzgzem0tMS4wODQgMS40MjdxLjY2IDAgMS4wNTcuMzg4LjQwNy4zODkuNDA3Ljk5NCAwIC41OTYtLjQwNy45ODQtLjM5Ny4zOS0xLjA1Ny4zODktLjY1IDAtMS4wNTYtLjM4OS0uMzk4LS4zODktLjM5OC0uOTg0IDAtLjU5Ny4zOTgtLjk4NS40MDYtLjM5NyAxLjA1Ni0uMzk3Ii8+PC9zdmc+\");padding-left:34px}#challenge-error-text,#challenge-success-text{background-repeat:no-repeat;background-size:contain}#challenge-success-text{background-image:url(\"data:image/svg+xml;base64,PHN2ZyB4bWxucz0iaHR0cDovL3d3dy53My5vcmcvMjAwMC9zdmciIHdpZHRoPSIzMiIgaGVpZ2h0PSIzMiIgZmlsbD0ibm9uZSIgdmlld0JveD0iMCAwIDI2IDI2Ij48cGF0aCBmaWxsPSIjMzEzMTMxIiBkPSJNMTMgMGExMyAxMyAwIDEgMCAwIDI2IDEzIDEzIDAgMCAwIDAtMjZtMCAyNGExMSAxMSAwIDEgMSAwLTIyIDExIDExIDAgMCAxIDAgMjIiLz48cGF0aCBmaWxsPSIjMzEzMTMxIiBkPSJtMTAuOTU1IDE2LjA1NS0zLjk1LTQuMTI1LTEuNDQ1IDEuMzg1IDUuMzcgNS42MSA5LjQ5NS05LjYtMS40Mi0xLjQwNXoiLz48L3N2Zz4=\");padding-left:42px}.text-center{text-align:center}.ctp-button{background-color:#0051c3;border:.063rem solid #0051c3;border-radius:.313rem;color:#fff;cursor:pointer;font-size:.875rem;line-height:1.313rem;margin:2rem 0;padding:.375rem 1rem;transition-duration:.2s;transition-property:background-color,border-color,color;transition-timing-function:ease}.ctp-button:hover{background-color:#003681;border-color:#003681;color:#fff;cursor:pointer}.footer{font-size:.75rem;line-height:1.125rem;margin:0 auto;max-width:60rem;padding-left:1.5rem;padding-right:1.5rem;width:100%}.footer-inner{border-top:1px solid #d9d9d9;padding-bottom:1rem;padding-top:1rem}.clearfix:after{clear:both;content:\"\";display:table}.clearfix .column{float:left;padding-right:1.5rem;width:50%}.diagnostic-wrapper{margin-bottom:.5rem}.footer .ray-id{text-align:center}.footer .ray-id code{font-family:monaco,courier,monospace}.core-msg,.zone-name-title{overflow-wrap:break-word}@media (width <= 720px){.diagnostic-wrapper{display:flex;flex-wrap:wrap;justify-content:center}.clearfix:after{clear:none;content:none;display:initial;text-align:center}.column{padding-bottom:2rem}.clearfix .column{float:none;padding:0;width:auto;word-break:keep-all}.zone-name-title{margin-bottom:1rem}}.loading-spinner{height:76.391px}.lds-ring{display:inline-block;position:relative}.lds-ring,.lds-ring div{height:1.875rem;width:1.875rem}.lds-ring div{animation:lds-ring 1.2s cubic-bezier(.5,0,.5,1) infinite;border:.3rem solid transparent;border-radius:50%;border-top-color:#313131;box-sizing:border-box;display:block;position:absolute}.lds-ring div:first-child{animation-delay:-.45s}.lds-ring div:nth-child(2){animation-delay:-.3s}.lds-ring div:nth-child(3){animation-delay:-.15s}@keyframes lds-ring{0%{transform:rotate(0deg)}to{transform:rotate(1turn)}}.rtl .heading-favicon{margin-left:.5rem;margin-right:0}.rtl #challenge-success-text{background-position:100%;padding-left:0;padding-right:42px}.rtl #challenge-error-text{background-position:100%;padding-left:0;padding-right:34px}.challenge-content .loading-spinner{height:76.391px}@media (prefers-color-scheme:dark){body{background-color:#222;color:#d9d9d9}body a{color:#fff}body a:hover{color:#ee730a;text-decoration:underline}body .lds-ring div{border-color:#999 transparent transparent}body .font-red{color:#b20f03}body .ctp-button{background-color:#4693ff;color:#1d1d1d}body #challenge-success-text{background-image:url(\"data:image/svg+xml;base64,PHN2ZyB4bWxucz0iaHR0cDovL3d3dy53My5vcmcvMjAwMC9zdmciIHdpZHRoPSIzMiIgaGVpZ2h0PSIzMiIgZmlsbD0ibm9uZSIgdmlld0JveD0iMCAwIDI2IDI2Ij48cGF0aCBmaWxsPSIjZDlkOWQ5IiBkPSJNMTMgMGExMyAxMyAwIDEgMCAwIDI2IDEzIDEzIDAgMCAwIDAtMjZtMCAyNGExMSAxMSAwIDEgMSAwLTIyIDExIDExIDAgMCAxIDAgMjIiLz48cGF0aCBmaWxsPSIjZDlkOWQ5IiBkPSJtMTAuOTU1IDE2LjA1NS0zLjk1LTQuMTI1LTEuNDQ1IDEuMzg1IDUuMzcgNS42MSA5LjQ5NS05LjYtMS40Mi0xLjQwNXoiLz48L3N2Zz4=\")}body #challenge-error-text{background-image:url(\"data:image/svg+xml;base64,PHN2ZyB4bWxucz0iaHR0cDovL3d3dy53My5vcmcvMjAwMC9zdmciIHdpZHRoPSIzMiIgaGVpZ2h0PSIzMiIgZmlsbD0ibm9uZSI+PHBhdGggZmlsbD0iI0IyMEYwMyIgZD0iTTE2IDNhMTMgMTMgMCAxIDAgMTMgMTNBMTMuMDE1IDEzLjAxNSAwIDAgMCAxNiAzbTAgMjRhMTEgMTEgMCAxIDEgMTEtMTEgMTEuMDEgMTEuMDEgMCAwIDEtMTEgMTEiLz48cGF0aCBmaWxsPSIjQjIwRjAzIiBkPSJNMTcuMDM4IDE4LjYxNUgxNC44N0wxNC41NjMgOS41aDIuNzgzem0tMS4wODQgMS40MjdxLjY2IDAgMS4wNTcuMzg4LjQwNy4zODkuNDA3Ljk5NCAwIC41OTYtLjQwNy45ODQtLjM5Ny4zOS0xLjA1Ny4zODktLjY1IDAtMS4wNTYtLjM4OS0uMzk4LS4zODktLjM5OC0uOTg0IDAtLjU5Ny4zOTgtLjk4NS40MDYtLjM5NyAxLjA1Ni0uMzk3Ii8+PC9zdmc+\")}}\\n/*# sourceMappingURL=to.css.map */</style><script src=\"https://challenges.cloudflare.com/turnstile/v0/b/b0e4a89976ce/api.js?onload=RGHt6&amp;render=explicit\" async=\"\" defer=\"\" crossorigin=\"anonymous\"></script></head><body class=\"no-js\"><div class=\"main-wrapper\" role=\"main\"><div class=\"main-content\"><h1 class=\"zone-name-title h1\">indiankanoon.org</h1><p id=\"LLeF5\" class=\"h2 spacer-bottom\">Verify you are human by completing the action below.</p><div id=\"ihOWn1\" style=\"display: grid;\"><div><div><input type=\"hidden\" name=\"cf-turnstile-response\" id=\"cf-chl-widget-dlq56_response\"></div></div></div><div id=\"Xoyc5\" class=\"spacer loading-spinner\" style=\"display: none; visibility: hidden;\"><div class=\"lds-ring\"><div></div><div></div><div></div><div></div></div></div><div id=\"JJfCt2\" class=\"core-msg spacer spacer-top\">indiankanoon.org needs to review the security of your connection before proceeding.</div><div id=\"PZFW8\" style=\"display: none;\"><div id=\"challenge-success-text\" class=\"h2\">Verification successful</div><div class=\"core-msg spacer\">Waiting for indiankanoon.org to respond...</div></div><noscript><div class=\"h2\"><span id=\"challenge-error-text\">Enable JavaScript and cookies to continue</span></div></noscript></div></div><script>(function(){window._cf_chl_opt={cvId: '3',cZone: \"indiankanoon.org\",cType: 'managed',cRay: '916f242aef2c7fd0',cH: '40kGGxzrB1_FT7COmbK27h0RahSUwfD.fOk1L_Ubc98-1740396811-1.2.1.1-Gu6Rt6Jgk8EPAqdFprNLuKuk2FtfrrKp9EVnaEYq.wQNAjoSjtvdZaM3abhd_5v6',cUPMDTk: \"\\/?__cf_chl_tk=zjDgUSwv4aQROHEyNnZq0Kgy8T5jppw5OzNayaKGHzw-1740396811-1.0.1.1-2RecUemrOXWmoDQVn8R.Rg30s14CdGhBD.9j4kbkFpU\",cFPWv: 'b',cITimeS: '1740396811',cTTimeMs: '1000',cMTimeMs: '390000',cTplC: 0,cTplV: 5,cTplB: 'cf',cK: \"\",fa: \"\\/?__cf_chl_f_tk=zjDgUSwv4aQROHEyNnZq0Kgy8T5jppw5OzNayaKGHzw-1740396811-1.0.1.1-2RecUemrOXWmoDQVn8R.Rg30s14CdGhBD.9j4kbkFpU\",md: \"n46QKftI60yf_GuEjUaD112_RL61DicJGr3uzNM7JFQ-1740396811-1.2.1.1-w0EIkWTRQ51amNWMDFwHi_UbiIMlyxYn7.ete2LR4L9rALn.wgAC3z9zTHjt5xs6ZWcxQ2SmebWnH0W8QdjfSZPFIjo8nlDegvY5NqbU9jRTmO5d0xvKEt5uCTzjj_107gAWkWkvoO4aenWiJUsx_8ZEmFx25lV_OLKkpvZtnGyfFP5JpwXK7LRxhKL8vFCm_yEsJMILznQsF2rEDmLsNw2QYs6OzmmB33YcCyzGb2SbbjMrSW.S5PfbjttGq_GP.363DzuYBgP8vE8zak6__Jzaf1Mc8PEwZbVyDnUQmEOwkH6JkfZ79O0K00FoC34zE4xo9amA_rIZQPpuTEYttOE_y3_50sA1SiVwfhpFQq52C03zYBIzEHAK3ZfvbLMZlGSOx9f7yCCyLmnniCC.Vx4e9ulcnnFNTVGK5vDc2En9afPVFGbXIkUOfPQ8Nuj_S.obr2_yo.vGNSqlPuFcVEksrcOCrnDThTQMjETFGWl6TuN4vwHr2gzvfcmeJOwhTw0HObFqCMwifcRr33GGOb3UjbD8pU2e7bfoKpxf6iJCyJl8lxlHo4myL4oW3EOR5DBikh5dHoaX2nmELR1BOvF9._q.KmQLcplGzdVc65ZurtsiYyzn.qrVW8jTBSkIkw.ycgrXNuYKalIF3QGjZTtATwgpcGU1muBRApbjaIVdsW6mH.iCScGWC7xgxxh06RYvXjFtBeiaBLdDdhhOof1cnPxiZ6OpivcEGEqopuxgzLXSMu0qir9F6IE8XpXoozzF0zABFNg0qCztRcMXcgQrQqSMZsMwjWF7.kiFLjpDEyUGQ5coy9b9HuJ5qvcBdg4ZaKzUieYmVEKH39v_71ea2QyGRD4qV2rmCDe0HBzpW.IGNp_.OstNn9ZKftmL8lXAb1F1aCnPIdmNUsfc8ugTyuBgKO8AiH3C6xj_erALrj2emDiPeTlJo3hzW3sQHlJZL5dx9g1B4ExS3GXQt5fVxsrjPqwInz7PfybUbCyTKijhbfODdVuKrIrv47HW67M5MCAPdmvXDvyDkoY0Ly4UJ64ZxDAH9mqVebr8FPZh8.G0QP7LPf65gJ9q8lgoHM6q6QVQl_QxF.IkQz_8JeKW1YSDcJJrRvELPKtLFp8XqE5m3MkfkeCH9k5LsxXnAkahYdmloPBG8zFpl.syFl8FpflPC2BWoH9w7YbwXHaXXzj6gvPtV_spbzhEW4FsBGc4rWee_dVQLxyiqYPC.OOh_28fSUf2M955.ivXn213Kh6TFjkNtzMKduo4ozQKmRQ1l0.wlT9csUbFAo98FyE.Qg5hhmWgKsNGys65tp46gyOKbPfC_KB.t_qSyCNKxh8tEND43aiCClfMUHHLJT08Zli3dQPpawQn6jC0DyAvu6ZOdjR0ZJJ9dm70lkMcj5dWw8fwXIudU27hB2A0XQj6HEIh1LJYwlyu3Y53EHMKN7IBXAgSv72B_SNui2CHo0UeOoRX0fWQGUuM7dNGM_CS9MjUlERlD.zVpWuky9wFh1qrM2EPm8jnzKYyiPOMzDBRdXmHsdIqiO3G5JjnAeF5OPIg6FE3Sx1yj0yhlubJ5Rq2tRyf1sNdU1AazekNNd7ocT3J7WU4cDSnWE3AFKO9WuoM97NRDigG5AEcH2MTmALVuSufWL4SCQm2vBVLm5WFvUrcXbePvMGoMHWTj2u4RpfGP15_rf3_Y7LzA63pN0BgL6MTge3GjFRgF1niRXiCa7oU0tJXEOEQaycIkV1Md6LadliSd7bHeDf4I_Nk6Q0MhUIZiy7j2HUEsGflIkBJZsZ0n50nvn5.BJ.HLPA41FxqFiy0mZTof.aSJiZWYj4zfXRIBhCnZcNDutq4p5gznuqn8BZxbX3sMKSDV1EvQr0vs9cMFzMoYszD8716TeGtdlBzmSYdFuDe4ZUCWOtYozz88e4nX3K9TDSlIgytTufDA2jd8EyNvZMtafAkqF5PlJ8ntlNTkGmgI_IRq4lz9nngSxEu.w.GX3jiqsyJW9_VKgxkkwjobpu84KskAJxN4vgZljCkz7WVER9filXcMezjWAx.ocdxHwhEtzUGqDtmIp8LXBrSvXTIayeGoz_Xa.hM1NMDHEc79SCluRPjbkxaJCsvBIzlcUavbb7CP38MI86R9.JMQJO1LOI8nc0RFkByha_WtQBsFA3fAXLzLSrS6TZajeX_s4wYn42LlMPw99z7_iJ3YckW3c7C7xFNqOMJb9gq.yll28_DrMiJz5fRaIbuIshn3RNX.NwGfpkkBOuocPjuHwTemsvZgUlHVeJvustuvKpwHcIR9aTe_zpCzOfXXxmfKFAK3YjhtsFKQC0jecNv3gOMiQN5yy9f3dz77hJfTVqWYYrwyJkD8jGZ31lmzgwkuAWhRjmDnXMhb.HQ41SYVgehlyqsdQe4IeNDUIeJU_i47RJC.Pv2MT94XbRbMsCQuBLMTw\",mdrd: \"KKHV9PdEHGVWuFleva3rPd3lnqwkjyW1RiPRvIrowdY-1740396811-1.2.1.1-7TLBOL0mVmbfHCaPDryVl06BnR4cCmsm3SX48ZNWkKXCpuA9DvAAeX_tBphiO6JcclNvwfZQrAF.MHKfpbZ9nCQGF.6SB6_eMEBqawamf0Qm9ivAC5BR92BsMxYQR5FulKSiMkO7vLfIwfykByj6fAIRPbBJyb6ibudO33Ufcv5DEjm6z7fXlvAcL3L7mL7SCBnjxGUqQ_c0IyLNIivh3KHh5th0Y_F8AQ90V.SvMxsjJSDQ0GvT4aT.PwGqoNWa04a22i9.U.EzDL8EhvMcrC9VQ9NVEiVkr8CxgvJJwBpPGRCNh4OeogNc0ILyroiFXl9rDokHz9Kwrz3WOVbvI840SWcRJ0I004DAYq0e7SYoN_jgGQIrr3rYrE1mK_fgDP7gY1PRT_1TQi8zpz5hg96pcSakoWBHhs09NPPeutmiIk4JPSej_LwCSEJJLwd54SjVQi7OYkbef1hoK_hffLi6pDdfaCE1tJq2avIxxJgAESORldH4mdWxjNSMvV7JSb2HNVIjH5aloDQVPIBEAzFHrjn28K4WfukQVN1t3u0rqblRALJm7BkJ6nHAkwhw6WiuRdaxmsu3yl5C_wfH.sZv2dI1YAIP2ESeLw59XPIgSWrDPetWXs.llp7GNLz.DBf797XGMf4DV9OIimqp8ho89dnqg9UXrzZDZv6h9Cms0Vx3gIeHCxWn92wv_UwTpR24zjfG9p_2FR75G2N5ql2fhQHYXPnHEOn9GkLb6AbWyM6iv329Wu8zA.NQi5kee9oeQGHr.pDdEBh40YFEY_0Ggkmue1x4z6dqNTNtq0wrSrQjuGLQNEqT15gttSas5b5zU7bguXgkkviqkFfwxHzpM9zVDhvC7DGIGBSZvKJ0Wz_.o3UCu4XZWpVUiFmJUrPwe6oedCd9bkSMeyIsxtuiXTPD5lbDhcJXjf_dXl_gaHLE22vZqF39PpGsofrrl5DdALHYRb1APPROvDrbbNPv5r1_lYOT5hxgCAj4hZjqyo3p90Mja3rOpSKCS76ay8sE8Bwy3OQl7nes4lGonNVlLCwnzjlL_11otGqJJn2hB3jafQZ_Q7x.wZasTOCn8aUFA8.txMz0R2dYBD0cJG2tiliRIiIXbc2Ui_wr8o3POgTRydLy1GANHDyYpcZH4wMVVHWx1WDoXh.f4ghzQ4PnHOYiw3ZIEeRuwB9XvsdWNzRKREkWQzO9P5qq.Ttt9miQGaJ6PP.gVQ_YGeXvATT73lUTjsWfLxUSpiDd1Kr1Oou_x.bAl4CC4T4hJ0Q.SfWUEgn1mQy5.jvHoBX5cnt3lFCboC6FCKUx8rtTytiJOwrZ_C1ph5YOFO1WXDjTC.n5QGcIk2NZahD8JUU4qxq2WPm6kOr4it5C3PPG2xszKGmo3loPq1BNUr_MWa8OOJBADtq8gzer.yJDFc4gb.4GwjAGdhL9GyxFWgpVL.mbZfEDus5bVtYNTkkCSnZfO3r2Kl_dBoMKXw4VpWsdLIZJLdvZO1By6MJXQOOOK.sMaLEKaXBUt.bx94idW2WT8SFEz1D0GgsBeGNrOrScn1Qx5l4orAc9VLXaP2rkYnOrEirQcedM5BpEcbXnOjtKx.SC6I4aSysCGtheG4sFhwsxjB6MbHIEHoWnpatf5x1b3uXBg1oYYncdKxjtP.YYUIKX7xmrSB8YoT0PgILWqqEDHMbl_tOAWPxhUZV1LCWtJNfXRbwQ_xEelsIPG1VBW9O1KSyCXNufBRgTWS9QIVN4iGB.bHwjdq_nDBsz5aRXsss4K9vDO1eOO0wlTX2Z9XqQkHpYB_imDrSG6d1TOg74GZn4p6SitdmRrYDL6JFHM01hI6.eRJF2AcHCWZiEZhe5EUdhKTw4769fCutUfcPE13PGxu8b2OJa2vrho.CoT5qJa053fEFXkOCezK_l.ewoGSgg20mABE_gAzu3H4pmAwNrUTXNm6WNcQEcbizxnEYJQFxc59AHWhArG3UqgW9rs7H_QhllmOMBd_alai4BbDuaWTP01NvtVuIHoCu3KxiSxoparQtbRchhDGSzjTxLLtU4p33vYc2VX25WCNIWb31PmNSf_RU25zqGNykgADCvAJ_QnitvwRYlhDlkTjMgCVn_C9OdbQHIHO6k3QLz.MtTIIgBm0GA8b1rRacNrf8wLRITgFtKTwwdHbq..lI2G_PDSpXXS8tU2bIz9Tzc1daSitEFkhjkLYelQSmoDM0006ohQ7_RUDNhz0HK8EXgbsglPdBDactT9i8tHfzrw86Ei4hrXN25Z5bCmEYozIq7oo79r7UOQk6oOLx0LVDsywZu53u7nangY4XqRHo6AJqHsJ3CccBY4ZFXGj1dnMdenfSlSzbpr58.TZ_.wlFKI3LfKv7thNKkFIpfO9JorjurdvUuTQOSKijFNtdJyOLP7zXIgua99pr7yACkCcghJHXVsoNXeV6xvv0NNNT_KOPfF3yDc9pZyZ4JLmjy0kJgj0B05_42zaubbh87_BFALQfCcCVtBw6K3YQWf_dlOtcTxjtEHDFCDsECuBDaLGQM4dyK3Dk9kYSHVgPVPprE9RjWs7i7i9eg8lsL7mWAz7uqajaD09_zosJsJJb.RVKrKHARbNR2QzJhTO83oypIo2endG5lL8DiuqnG4YUKx6hQN4XVe6lsi2OycwJsqCpTAv9If75PvBjcyqWwZCemrdG7IfQRTDuSmJk3_JhBU9WCUn18IP4DxOiTOQgI_XAzAqflTQiNF8j8G2lU2_NcJprOzgFX2aPuafmaIj4Bm48X.C5oPZzgT15An3LwDC3BD0xklMin4ffcJMgP3ihMhYkXxBcUDSylmPiWpWd0IANgam6rdYzDkDX3j5wPINDLOvReryIj7ysPikATKctaW2T1aK7elEYI9Ujb4Ubpqnj8Xtk48uaKLiGBlMuCam2hArlzD6Zafw4rpsYJxBIzCWpYZj.ldF9rrmu_rjhAKl4A5h_u0abiNi8Tr7AZpi8WQuwJoLXJutswsTbumO9NTzn6f_niJ9TTdN7FOL34WwdjslXqPjlhBu6yQeRgZeQaMS9AOu4dNGlFSEI6qaP0ao8QORszn8idZ5DJcxLRsZ40YL1w6OKsLUO6KoPeS5czQblPeqKTjvm7XiJ30fjOYNx5_.yjgZnOOrS4qIVU18ycI3U_GxePhh9ZSKFFZq.6EXAD6HTfnjhVOwkPUd47jOZPWJFKCA8Xk77saaUgsFVfP2BzxXZmE_W0SphfYOoD6k_DmiQOzn02bErnFiwAtjYCNX0Qzdelj8RJ4rKgoiTsLZyQXrOLQKWc4fUQ43.cGNCOkRM8wTrSKjWbglvihUB0eEQ5u7SDyqh_xVOdBPfzvwJ019JG0_usvroUC7_9WO.X0bLviZ9wC_JTNmgan6NdLyHkyCZ4CvHgpAYv8lPJ8hUpN0f4XI4EivWivUFLot_9yVNyQ7iuOS1VxwaqtjpnbtC_.XY619CuUsEANnejncLxqhlnPvIo7BHxrQP0ZLeue1.JH3Wgp98.kgNYJBNMCuZBn095bfjxOluA9JTNpTPMgsxkAVUbJyDw4KyxwwrQ1T8PxHLYOA.hc1AV_PXzNtHhJoYDzpvwIPizITDf6dbVL3ZJuE1YzNDReirgkYCqMoikAqP3NZRAlmSud86S9u8HkfsE_zaz99h0FEQtbgG0JApqwY4GQOf6S1p9IX3Fjp.WYxGasaBuBJadrAEX0cHCuUMvVnl4DBDKUdU0kIsaAXbDiYKI2B.WYGGJ_L5irg7yNb.4JnhSRuZqT2go9mLXf5TKbT8whnxYHBnPyU5Z6_c7thjs2Ik_5pTCZ3_jXeyYKUXuJnd7CjWuxoApSm0vgA6tuAU.L64_diSDMZCwSYwWwUDZO8yUirekrc6WiLxaKNNHejgHPVhZIjojwhe2GF1X7cMkBSzP1R.KdDIoJ3x8tX4BXfK7vnJDskZhAYoD_9aGF5.XQFUwtLUKFsANgVddRcZ69y_BZ.8Jx6ZY_sEta4JQRhzLYN0VKpDZBXsPgbK9fITGyvNFBHspsvVgt7bLv_AvwiK7kxWodNma1jQRHgOXTv7t1914zOerIVuKbUQ65wJjeQwbmMZ1KNa5XGxEm0FTyuoMMSPc_0zH2n2N8b6xxh8zzbeej3Bh15yu4x0mW_unFMpiUgk3qeUUjdRJf1p6a7OgWcjf_w0U97WyGSnJ9GfTChk3imk1JRoJlJKjPzIJ0dHfTHCSerk.et5SPdfCW2uKBa.5bMW7kA8ArbFMYoHkoAaiezXHv1u4DA21OCp48MNnIC4n7zq6CVO.aU5.VwBesFNBDZINPeZkXiGFIEu8wSj2a_ztoiB0yZb5Y2VNMYPWf48CBZCSXy.f2nVVnbBFhyDIwCCwcnQimxzaVZtIM_iWwQKjIS0x2hKTd2suJs3hVp2coPRMOgR9hGdZIjLgckke3DzuxVHF.bv2WYZAkDOTnznsIiZpXYBISOKZFO1OnZJKLSu1JmtGjnQ9SmQX.ct7sZzIeLHy7Bsr.ByxYhDcKqmZJI2cyacu8v4rHEm9tnh0LVXCC8STIbxXJOCwql1JdZEQMaV5ZgFHJJ9iakX6nvE7KiNX_98KihJXjMY11GZjG1.us2RuxylbTJq4asm1KZn8J1gE5RTVrcL4b8orS6OKI8b4gH0cxCuU.po6s4BRc4fR0b.14UuGm8OfyUyWcxYT3KMy2GAGxFNFMgV8pcq_XxKGgaU7zeN05N24TlpC7_dD2yhPkjZIXTZ1_tek29x0Fv.V.5eL5rMlr6TT9V6V5EUNs520OLez\"};var cpo = document.createElement('script');cpo.src = '/cdn-cgi/challenge-platform/h/b/orchestrate/chl_page/v1?ray=916f242aef2c7fd0';window._cf_chl_opt.cOgUHash = location.hash === '' && location.href.indexOf('#') !== -1 ? '#' : location.hash;window._cf_chl_opt.cOgUQuery = location.search === '' && location.href.slice(0, location.href.length - window._cf_chl_opt.cOgUHash.length).indexOf('?') !== -1 ? '?' : location.search;if (window.history && window.history.replaceState) {var ogU = location.pathname + window._cf_chl_opt.cOgUQuery + window._cf_chl_opt.cOgUHash;history.replaceState(null, null, \"\\/?__cf_chl_rt_tk=zjDgUSwv4aQROHEyNnZq0Kgy8T5jppw5OzNayaKGHzw-1740396811-1.0.1.1-2RecUemrOXWmoDQVn8R.Rg30s14CdGhBD.9j4kbkFpU\" + window._cf_chl_opt.cOgUHash);cpo.onload = function() {history.replaceState(null, null, ogU);}}document.getElementsByTagName('head')[0].appendChild(cpo);}());</script><div class=\"footer\" role=\"contentinfo\"><div class=\"footer-inner\"><div class=\"clearfix diagnostic-wrapper\"><div class=\"ray-id\">Ray ID: <code>916f242aef2c7fd0</code></div></div><div class=\"text-center\" id=\"footer-text\">Performance &amp; security by <a rel=\"noopener noreferrer\" href=\"https://www.cloudflare.com?utm_source=challenge&amp;utm_campaign=m\" target=\"_blank\">Cloudflare</a></div></div></div></body></html>\n"
     ]
    }
   ],
   "source": [
    "#get http content\n",
    "print(driver.page_source)"
   ]
  },
  {
   "cell_type": "code",
   "execution_count": 37,
   "metadata": {},
   "outputs": [],
   "source": [
    "#using undetectable chrome driver\n",
    "from undetected_chromedriver import Chrome, ChromeOptions\n",
    "chrome_options = ChromeOptions()\n",
    "chrome_options.add_argument(\"--disable-blink-features=AutomationControlled\")\n",
    "driver = Chrome(options=chrome_options)\n",
    "\n",
    "driver.get(url)"
   ]
  }
 ],
 "metadata": {
  "kernelspec": {
   "display_name": "Python 3",
   "language": "python",
   "name": "python3"
  },
  "language_info": {
   "codemirror_mode": {
    "name": "ipython",
    "version": 3
   },
   "file_extension": ".py",
   "mimetype": "text/x-python",
   "name": "python",
   "nbconvert_exporter": "python",
   "pygments_lexer": "ipython3",
   "version": "3.10.11"
  }
 },
 "nbformat": 4,
 "nbformat_minor": 2
}
